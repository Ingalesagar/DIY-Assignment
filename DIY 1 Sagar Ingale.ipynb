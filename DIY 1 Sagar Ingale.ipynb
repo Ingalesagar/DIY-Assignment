{
 "cells": [
  {
   "cell_type": "code",
   "execution_count": 1,
   "metadata": {},
   "outputs": [],
   "source": [
    "import tensorflow as tf\n",
    "import numpy as np"
   ]
  },
  {
   "cell_type": "code",
   "execution_count": 2,
   "metadata": {},
   "outputs": [],
   "source": [
    "base_dir=r\"C:\\DL\\DEVNAGARI_NEW\""
   ]
  },
  {
   "cell_type": "code",
   "execution_count": 3,
   "metadata": {},
   "outputs": [
    {
     "name": "stdout",
     "output_type": "stream",
     "text": [
      "Found 560 images belonging to 10 classes.\n",
      "Found 130 images belonging to 10 classes.\n"
     ]
    }
   ],
   "source": [
    "IMAGE_SIZE=224\n",
    "BATCH_SIZE=64\n",
    "\n",
    "#Loading Custom image dataset and Preprocess it\n",
    "train_datagen=tf.keras.preprocessing.image.ImageDataGenerator(\n",
    "    rescale=1./255,\n",
    "    shear_range=0.2,\n",
    "    zoom_range=0.2,\n",
    "    horizontal_flip=True,\n",
    "    validation_split=0.2\n",
    "    )\n",
    "\n",
    "test_datagen=tf.keras.preprocessing.image.ImageDataGenerator(\n",
    "     rescale=1./255,\n",
    "     validation_split=0.2\n",
    ")\n",
    "\n",
    "train_datagen=train_datagen.flow_from_directory(\n",
    "    base_dir,\n",
    "    target_size=(IMAGE_SIZE,IMAGE_SIZE),\n",
    "    batch_size=BATCH_SIZE,\n",
    "    subset='training'\n",
    ")\n",
    "\n",
    "test_datagen=test_datagen.flow_from_directory(\n",
    "    base_dir,\n",
    "    target_size=(IMAGE_SIZE,IMAGE_SIZE),\n",
    "    batch_size=BATCH_SIZE,\n",
    "    subset='validation'\n",
    ")"
   ]
  },
  {
   "cell_type": "code",
   "execution_count": 31,
   "metadata": {},
   "outputs": [],
   "source": [
    "#Building Convolutional Neural Networks \n",
    "cnn=tf.keras.Sequential()\n",
    "cnn.add(tf.keras.layers.Conv2D(filters=64,padding='same',strides=2,kernel_size=3,activation='relu',input_shape=(224,224,3)))\n",
    "cnn.add(tf.keras.layers.MaxPool2D(pool_size=2,strides=2))\n",
    "\n",
    "cnn.add(tf.keras.layers.Conv2D(filters=32,padding='same',strides=2,kernel_size=3,activation='relu'))\n",
    "cnn.add(tf.keras.layers.MaxPool2D(pool_size=2,strides=2))\n",
    "\n",
    "cnn.add(tf.keras.layers.Conv2D(filters=32,padding='same',strides=2,kernel_size=3,activation='relu'))\n",
    "cnn.add(tf.keras.layers.MaxPool2D(pool_size=2))\n",
    "\n",
    "cnn.add(tf.keras.layers.Flatten())\n",
    "cnn.add(tf.keras.layers.Dense(10,activation='sigmoid')) #Activation function sigmoid is used to get accuracy"
   ]
  },
  {
   "cell_type": "code",
   "execution_count": 32,
   "metadata": {},
   "outputs": [],
   "source": [
    "cnn.compile(optimizer=tf.keras.optimizers.Adam(),loss='categorical_crossentropy',metrics=['accuracy'])"
   ]
  },
  {
   "cell_type": "code",
   "execution_count": 34,
   "metadata": {},
   "outputs": [
    {
     "name": "stdout",
     "output_type": "stream",
     "text": [
      "Epoch 1/5\n",
      "9/9 [==============================] - 16s 2s/step - loss: 1.5807 - accuracy: 0.4571 - val_loss: 1.4017 - val_accuracy: 0.5538\n",
      "Epoch 2/5\n",
      "9/9 [==============================] - 15s 2s/step - loss: 1.5648 - accuracy: 0.4482 - val_loss: 1.2266 - val_accuracy: 0.5769\n",
      "Epoch 3/5\n",
      "9/9 [==============================] - 15s 2s/step - loss: 1.3958 - accuracy: 0.5286 - val_loss: 1.2182 - val_accuracy: 0.5385\n",
      "Epoch 4/5\n",
      "9/9 [==============================] - 15s 2s/step - loss: 1.2927 - accuracy: 0.5607 - val_loss: 1.0512 - val_accuracy: 0.6615\n",
      "Epoch 5/5\n",
      "9/9 [==============================] - 15s 2s/step - loss: 1.2107 - accuracy: 0.5929 - val_loss: 0.9590 - val_accuracy: 0.7000\n"
     ]
    },
    {
     "data": {
      "text/plain": [
       "<keras.callbacks.History at 0x1831c516d00>"
      ]
     },
     "execution_count": 34,
     "metadata": {},
     "output_type": "execute_result"
    }
   ],
   "source": [
    "cnn.fit(train_datagen,epochs=5,validation_data=test_datagen)# To fit the data"
   ]
  },
  {
   "cell_type": "code",
   "execution_count": 39,
   "metadata": {},
   "outputs": [
    {
     "name": "stdout",
     "output_type": "stream",
     "text": [
      "Epoch 1/5\n",
      "9/9 [==============================] - 15s 2s/step - loss: 7.7148 - accuracy: 0.1000 - val_loss: 7.6237 - val_accuracy: 0.1000\n",
      "Epoch 2/5\n",
      "9/9 [==============================] - 15s 2s/step - loss: 7.6068 - accuracy: 0.1000 - val_loss: 7.5106 - val_accuracy: 0.1000\n",
      "Epoch 3/5\n",
      "9/9 [==============================] - 15s 2s/step - loss: 5.7871 - accuracy: 0.1000 - val_loss: 4.9991 - val_accuracy: 0.1000\n",
      "Epoch 4/5\n",
      "9/9 [==============================] - 15s 2s/step - loss: 4.9740 - accuracy: 0.1000 - val_loss: 4.9425 - val_accuracy: 0.1000\n",
      "Epoch 5/5\n",
      "9/9 [==============================] - 16s 2s/step - loss: 4.9341 - accuracy: 0.1000 - val_loss: 4.9270 - val_accuracy: 0.1000\n"
     ]
    },
    {
     "data": {
      "text/plain": [
       "<keras.callbacks.History at 0x1832378d5b0>"
      ]
     },
     "execution_count": 39,
     "metadata": {},
     "output_type": "execute_result"
    }
   ],
   "source": [
    "#Using Activation relu and getting accuracy\n",
    "cnn.add(tf.keras.layers.Flatten())\n",
    "cnn.add(tf.keras.layers.Dense(10,activation='relu'))\n",
    "cnn.compile(optimizer=tf.keras.optimizers.Adam(),loss='categorical_crossentropy',metrics=['accuracy'])\n",
    "cnn.fit(train_datagen,epochs=5,validation_data=test_datagen)"
   ]
  },
  {
   "cell_type": "code",
   "execution_count": null,
   "metadata": {},
   "outputs": [],
   "source": []
  }
 ],
 "metadata": {
  "kernelspec": {
   "display_name": "DL",
   "language": "python",
   "name": "dl"
  },
  "language_info": {
   "codemirror_mode": {
    "name": "ipython",
    "version": 3
   },
   "file_extension": ".py",
   "mimetype": "text/x-python",
   "name": "python",
   "nbconvert_exporter": "python",
   "pygments_lexer": "ipython3",
   "version": "3.8.5"
  }
 },
 "nbformat": 4,
 "nbformat_minor": 4
}
